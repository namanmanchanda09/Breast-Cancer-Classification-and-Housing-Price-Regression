{
 "cells": [
  {
   "cell_type": "markdown",
   "metadata": {},
   "source": [
    "<a href=\"https://www.pieriandata.com\"><img src=\"../Pierian_Data_Logo.PNG\"></a>\n",
    "<strong><center>Copyright by Pierian Data Inc.</center></strong> \n",
    "<strong><center>Created by Jose Marcial Portilla.</center></strong>"
   ]
  },
  {
   "cell_type": "markdown",
   "metadata": {},
   "source": [
    "# Tensorboard\n",
    "\n",
    "---\n",
    "---\n",
    "\n",
    "**NOTE: You must watch the corresponding video to understand this lecture. This notebook can't serve as a full guide. Please watch the video BEFORE posting questions to the QA forum.**\n",
    "\n",
    "---\n",
    "---\n",
    "\n",
    "Let's explore the built in data visualization capabilities that come with Tensorboard.\n",
    "\n",
    "Full official tutorial available here: https://www.tensorflow.org/tensorboard/get_started\n",
    "\n",
    "## Data"
   ]
  },
  {
   "cell_type": "code",
   "execution_count": 1,
   "metadata": {},
   "outputs": [],
   "source": [
    "import pandas as pd\n",
    "import numpy as np"
   ]
  },
  {
   "cell_type": "code",
   "execution_count": 3,
   "metadata": {},
   "outputs": [],
   "source": [
    "df = pd.read_csv('./cancer_classification.csv')"
   ]
  },
  {
   "cell_type": "markdown",
   "metadata": {},
   "source": [
    "### Train Test Split"
   ]
  },
  {
   "cell_type": "code",
   "execution_count": 4,
   "metadata": {},
   "outputs": [],
   "source": [
    "X = df.drop('benign_0__mal_1',axis=1).values\n",
    "y = df['benign_0__mal_1'].values"
   ]
  },
  {
   "cell_type": "code",
   "execution_count": 5,
   "metadata": {},
   "outputs": [],
   "source": [
    "from sklearn.model_selection import train_test_split"
   ]
  },
  {
   "cell_type": "code",
   "execution_count": 6,
   "metadata": {},
   "outputs": [],
   "source": [
    "X_train, X_test, y_train, y_test = train_test_split(X,y,test_size=0.25,random_state=101)"
   ]
  },
  {
   "cell_type": "markdown",
   "metadata": {},
   "source": [
    "\n",
    "### Scaling Data"
   ]
  },
  {
   "cell_type": "code",
   "execution_count": 7,
   "metadata": {},
   "outputs": [],
   "source": [
    "from sklearn.preprocessing import MinMaxScaler"
   ]
  },
  {
   "cell_type": "code",
   "execution_count": 8,
   "metadata": {},
   "outputs": [],
   "source": [
    "scaler = MinMaxScaler()"
   ]
  },
  {
   "cell_type": "code",
   "execution_count": 9,
   "metadata": {},
   "outputs": [
    {
     "data": {
      "text/plain": [
       "MinMaxScaler(copy=True, feature_range=(0, 1))"
      ]
     },
     "execution_count": 9,
     "metadata": {},
     "output_type": "execute_result"
    }
   ],
   "source": [
    "scaler.fit(X_train)"
   ]
  },
  {
   "cell_type": "code",
   "execution_count": 10,
   "metadata": {},
   "outputs": [],
   "source": [
    "X_train = scaler.transform(X_train)\n",
    "X_test = scaler.transform(X_test)"
   ]
  },
  {
   "cell_type": "markdown",
   "metadata": {},
   "source": [
    "## Creating the Model"
   ]
  },
  {
   "cell_type": "code",
   "execution_count": 11,
   "metadata": {},
   "outputs": [],
   "source": [
    "import tensorflow as tf\n",
    "from tensorflow.keras.models import Sequential\n",
    "from tensorflow.keras.layers import Dense, Activation,Dropout"
   ]
  },
  {
   "cell_type": "code",
   "execution_count": 12,
   "metadata": {},
   "outputs": [],
   "source": [
    "from tensorflow.keras.callbacks import EarlyStopping,TensorBoard"
   ]
  },
  {
   "cell_type": "code",
   "execution_count": 13,
   "metadata": {},
   "outputs": [],
   "source": [
    "early_stop = EarlyStopping(monitor='val_loss', mode='min', verbose=1, patience=25)"
   ]
  },
  {
   "cell_type": "code",
   "execution_count": 14,
   "metadata": {},
   "outputs": [
    {
     "data": {
      "text/plain": [
       "'/Users/namanmanchanda/Desktop/Keras_models'"
      ]
     },
     "execution_count": 14,
     "metadata": {},
     "output_type": "execute_result"
    }
   ],
   "source": [
    "pwd"
   ]
  },
  {
   "cell_type": "markdown",
   "metadata": {},
   "source": [
    "## Creating the Tensorboard Callback\n",
    "\n",
    "TensorBoard is a visualization tool provided with TensorFlow.\n",
    "\n",
    "This callback logs events for TensorBoard, including:\n",
    "* Metrics summary plots\n",
    "* Training graph visualization\n",
    "* Activation histograms\n",
    "* Sampled profiling\n",
    "\n",
    "If you have installed TensorFlow with pip, you should be able\n",
    "to launch TensorBoard from the command line:\n",
    "\n",
    "```sh\n",
    "tensorboard --logdir=path_to_your_logs\n",
    "```\n",
    "\n",
    "You can find more information about TensorBoard\n",
    "[here](https://www.tensorflow.org/tensorboard/).\n",
    "\n",
    "    Arguments:\n",
    "        log_dir: the path of the directory where to save the log files to be\n",
    "          parsed by TensorBoard.\n",
    "        histogram_freq: frequency (in epochs) at which to compute activation and\n",
    "          weight histograms for the layers of the model. If set to 0, histograms\n",
    "          won't be computed. Validation data (or split) must be specified for\n",
    "          histogram visualizations.\n",
    "        write_graph: whether to visualize the graph in TensorBoard. The log file\n",
    "          can become quite large when write_graph is set to True.\n",
    "        write_images: whether to write model weights to visualize as image in\n",
    "          TensorBoard.\n",
    "        update_freq: `'batch'` or `'epoch'` or integer. When using `'batch'`,\n",
    "          writes the losses and metrics to TensorBoard after each batch. The same\n",
    "          applies for `'epoch'`. If using an integer, let's say `1000`, the\n",
    "          callback will write the metrics and losses to TensorBoard every 1000\n",
    "          samples. Note that writing too frequently to TensorBoard can slow down\n",
    "          your training.\n",
    "        profile_batch: Profile the batch to sample compute characteristics. By\n",
    "          default, it will profile the second batch. Set profile_batch=0 to\n",
    "          disable profiling. Must run in TensorFlow eager mode.\n",
    "        embeddings_freq: frequency (in epochs) at which embedding layers will\n",
    "          be visualized. If set to 0, embeddings won't be visualized.\n",
    "       "
   ]
  },
  {
   "cell_type": "code",
   "execution_count": 15,
   "metadata": {},
   "outputs": [],
   "source": [
    "from datetime import datetime"
   ]
  },
  {
   "cell_type": "code",
   "execution_count": 16,
   "metadata": {},
   "outputs": [
    {
     "data": {
      "text/plain": [
       "'2020-02-04--1311'"
      ]
     },
     "execution_count": 16,
     "metadata": {},
     "output_type": "execute_result"
    }
   ],
   "source": [
    "datetime.now().strftime(\"%Y-%m-%d--%H%M\")"
   ]
  },
  {
   "cell_type": "code",
   "execution_count": 17,
   "metadata": {},
   "outputs": [],
   "source": [
    "# WINDOWS: Use \"logs\\\\fit\"\n",
    "# MACOS/LINUX: Use \"logs\\fit\"\n",
    "\n",
    "log_directory = 'logs/fit'\n",
    "\n",
    "# OPTIONAL: ADD A TIMESTAMP FOR UNIQUE FOLDER\n",
    "# timestamp = datetime.now().strftime(\"%Y-%m-%d--%H%M\")\n",
    "# log_directory = log_directory + '\\\\' + timestamp\n",
    "\n",
    "\n",
    "board = TensorBoard(log_dir=log_directory,histogram_freq=1,\n",
    "    write_graph=True,\n",
    "    write_images=True,\n",
    "    update_freq='epoch',\n",
    "    profile_batch=2,\n",
    "    embeddings_freq=1)"
   ]
  },
  {
   "cell_type": "markdown",
   "metadata": {},
   "source": [
    "Now create the model layers:"
   ]
  },
  {
   "cell_type": "code",
   "execution_count": 18,
   "metadata": {},
   "outputs": [],
   "source": [
    "model = Sequential()\n",
    "model.add(Dense(units=30,activation='relu'))\n",
    "model.add(Dropout(0.5))\n",
    "model.add(Dense(units=15,activation='relu'))\n",
    "model.add(Dropout(0.5))\n",
    "model.add(Dense(units=1,activation='sigmoid'))\n",
    "model.compile(loss='binary_crossentropy', optimizer='adam')"
   ]
  },
  {
   "cell_type": "markdown",
   "metadata": {},
   "source": [
    "## Train the Model"
   ]
  },
  {
   "cell_type": "code",
   "execution_count": 19,
   "metadata": {},
   "outputs": [
    {
     "name": "stdout",
     "output_type": "stream",
     "text": [
      "Train on 426 samples, validate on 143 samples\n",
      "Epoch 1/600\n",
      "426/426 [==============================] - 1s 3ms/sample - loss: 0.7088 - val_loss: 0.6818\n",
      "Epoch 2/600\n",
      "426/426 [==============================] - 0s 198us/sample - loss: 0.6861 - val_loss: 0.6644\n",
      "Epoch 3/600\n",
      "426/426 [==============================] - 0s 206us/sample - loss: 0.6579 - val_loss: 0.6450\n",
      "Epoch 4/600\n",
      "426/426 [==============================] - 0s 416us/sample - loss: 0.6396 - val_loss: 0.6235\n",
      "Epoch 5/600\n",
      "426/426 [==============================] - 0s 213us/sample - loss: 0.6380 - val_loss: 0.6026\n",
      "Epoch 6/600\n",
      "426/426 [==============================] - 0s 281us/sample - loss: 0.6238 - val_loss: 0.5806\n",
      "Epoch 7/600\n",
      "426/426 [==============================] - 0s 171us/sample - loss: 0.5806 - val_loss: 0.5496\n",
      "Epoch 8/600\n",
      "426/426 [==============================] - 0s 168us/sample - loss: 0.5627 - val_loss: 0.5171\n",
      "Epoch 9/600\n",
      "426/426 [==============================] - 0s 196us/sample - loss: 0.5453 - val_loss: 0.4828\n",
      "Epoch 10/600\n",
      "426/426 [==============================] - 0s 377us/sample - loss: 0.5155 - val_loss: 0.4547\n",
      "Epoch 11/600\n",
      "426/426 [==============================] - 0s 224us/sample - loss: 0.4916 - val_loss: 0.4312\n",
      "Epoch 12/600\n",
      "426/426 [==============================] - 0s 430us/sample - loss: 0.4691 - val_loss: 0.3994\n",
      "Epoch 13/600\n",
      "426/426 [==============================] - 0s 166us/sample - loss: 0.4598 - val_loss: 0.3670\n",
      "Epoch 14/600\n",
      "426/426 [==============================] - 0s 183us/sample - loss: 0.4117 - val_loss: 0.3432\n",
      "Epoch 15/600\n",
      "426/426 [==============================] - 0s 192us/sample - loss: 0.4285 - val_loss: 0.3218\n",
      "Epoch 16/600\n",
      "426/426 [==============================] - 0s 192us/sample - loss: 0.3924 - val_loss: 0.3006\n",
      "Epoch 17/600\n",
      "426/426 [==============================] - 0s 194us/sample - loss: 0.3793 - val_loss: 0.2819\n",
      "Epoch 18/600\n",
      "426/426 [==============================] - 0s 203us/sample - loss: 0.3478 - val_loss: 0.2624\n",
      "Epoch 19/600\n",
      "426/426 [==============================] - 0s 250us/sample - loss: 0.3412 - val_loss: 0.2494\n",
      "Epoch 20/600\n",
      "426/426 [==============================] - 0s 276us/sample - loss: 0.3428 - val_loss: 0.2364\n",
      "Epoch 21/600\n",
      "426/426 [==============================] - 0s 183us/sample - loss: 0.3314 - val_loss: 0.2297\n",
      "Epoch 22/600\n",
      "426/426 [==============================] - 0s 201us/sample - loss: 0.3187 - val_loss: 0.2187\n",
      "Epoch 23/600\n",
      "426/426 [==============================] - 0s 188us/sample - loss: 0.3094 - val_loss: 0.2126\n",
      "Epoch 24/600\n",
      "426/426 [==============================] - 0s 206us/sample - loss: 0.2849 - val_loss: 0.2032\n",
      "Epoch 25/600\n",
      "426/426 [==============================] - 0s 265us/sample - loss: 0.2964 - val_loss: 0.1967\n",
      "Epoch 26/600\n",
      "426/426 [==============================] - 0s 332us/sample - loss: 0.2879 - val_loss: 0.1900\n",
      "Epoch 27/600\n",
      "426/426 [==============================] - 0s 278us/sample - loss: 0.2764 - val_loss: 0.1804\n",
      "Epoch 28/600\n",
      "426/426 [==============================] - 0s 177us/sample - loss: 0.2684 - val_loss: 0.1721\n",
      "Epoch 29/600\n",
      "426/426 [==============================] - 0s 175us/sample - loss: 0.2492 - val_loss: 0.1699\n",
      "Epoch 30/600\n",
      "426/426 [==============================] - 0s 204us/sample - loss: 0.2385 - val_loss: 0.1643\n",
      "Epoch 31/600\n",
      "426/426 [==============================] - 0s 369us/sample - loss: 0.2601 - val_loss: 0.1567\n",
      "Epoch 32/600\n",
      "426/426 [==============================] - 0s 376us/sample - loss: 0.2445 - val_loss: 0.1561\n",
      "Epoch 33/600\n",
      "426/426 [==============================] - 0s 203us/sample - loss: 0.2648 - val_loss: 0.1549\n",
      "Epoch 34/600\n",
      "426/426 [==============================] - 0s 291us/sample - loss: 0.2521 - val_loss: 0.1532\n",
      "Epoch 35/600\n",
      "426/426 [==============================] - 0s 201us/sample - loss: 0.2436 - val_loss: 0.1528\n",
      "Epoch 36/600\n",
      "426/426 [==============================] - 0s 195us/sample - loss: 0.2231 - val_loss: 0.1478\n",
      "Epoch 37/600\n",
      "426/426 [==============================] - 0s 196us/sample - loss: 0.2071 - val_loss: 0.1461\n",
      "Epoch 38/600\n",
      "426/426 [==============================] - 0s 368us/sample - loss: 0.2140 - val_loss: 0.1371\n",
      "Epoch 39/600\n",
      "426/426 [==============================] - 0s 450us/sample - loss: 0.2061 - val_loss: 0.1312\n",
      "Epoch 40/600\n",
      "426/426 [==============================] - 0s 469us/sample - loss: 0.1923 - val_loss: 0.1287\n",
      "Epoch 41/600\n",
      "426/426 [==============================] - 0s 369us/sample - loss: 0.2014 - val_loss: 0.1333\n",
      "Epoch 42/600\n",
      "426/426 [==============================] - 0s 268us/sample - loss: 0.2014 - val_loss: 0.1280\n",
      "Epoch 43/600\n",
      "426/426 [==============================] - 0s 544us/sample - loss: 0.2019 - val_loss: 0.1255\n",
      "Epoch 44/600\n",
      "426/426 [==============================] - 0s 322us/sample - loss: 0.1882 - val_loss: 0.1247\n",
      "Epoch 45/600\n",
      "426/426 [==============================] - 0s 337us/sample - loss: 0.1763 - val_loss: 0.1195\n",
      "Epoch 46/600\n",
      "426/426 [==============================] - 0s 288us/sample - loss: 0.1847 - val_loss: 0.1153\n",
      "Epoch 47/600\n",
      "426/426 [==============================] - 0s 214us/sample - loss: 0.1825 - val_loss: 0.1163\n",
      "Epoch 48/600\n",
      "426/426 [==============================] - 0s 262us/sample - loss: 0.1905 - val_loss: 0.1162\n",
      "Epoch 49/600\n",
      "426/426 [==============================] - 0s 378us/sample - loss: 0.1637 - val_loss: 0.1146\n",
      "Epoch 50/600\n",
      "426/426 [==============================] - 0s 401us/sample - loss: 0.1767 - val_loss: 0.1182\n",
      "Epoch 51/600\n",
      "426/426 [==============================] - 0s 508us/sample - loss: 0.1836 - val_loss: 0.1220\n",
      "Epoch 52/600\n",
      "426/426 [==============================] - 0s 495us/sample - loss: 0.1659 - val_loss: 0.1125\n",
      "Epoch 53/600\n",
      "426/426 [==============================] - 0s 360us/sample - loss: 0.1612 - val_loss: 0.1087\n",
      "Epoch 54/600\n",
      "426/426 [==============================] - 0s 365us/sample - loss: 0.1548 - val_loss: 0.1132\n",
      "Epoch 55/600\n",
      "426/426 [==============================] - 0s 236us/sample - loss: 0.1634 - val_loss: 0.1125\n",
      "Epoch 56/600\n",
      "426/426 [==============================] - 0s 246us/sample - loss: 0.1682 - val_loss: 0.1065\n",
      "Epoch 57/600\n",
      "426/426 [==============================] - 0s 294us/sample - loss: 0.1507 - val_loss: 0.1049\n",
      "Epoch 58/600\n",
      "426/426 [==============================] - 0s 244us/sample - loss: 0.1697 - val_loss: 0.1104\n",
      "Epoch 59/600\n",
      "426/426 [==============================] - 0s 310us/sample - loss: 0.1505 - val_loss: 0.1059\n",
      "Epoch 60/600\n",
      "426/426 [==============================] - 0s 264us/sample - loss: 0.1395 - val_loss: 0.1107\n",
      "Epoch 61/600\n",
      "426/426 [==============================] - 0s 261us/sample - loss: 0.1546 - val_loss: 0.1093\n",
      "Epoch 62/600\n",
      "426/426 [==============================] - 0s 305us/sample - loss: 0.1512 - val_loss: 0.1065\n",
      "Epoch 63/600\n",
      "426/426 [==============================] - 0s 189us/sample - loss: 0.1425 - val_loss: 0.1064\n",
      "Epoch 64/600\n",
      "426/426 [==============================] - 0s 232us/sample - loss: 0.1589 - val_loss: 0.1045\n",
      "Epoch 65/600\n",
      "426/426 [==============================] - 0s 351us/sample - loss: 0.1309 - val_loss: 0.1032\n",
      "Epoch 66/600\n",
      "426/426 [==============================] - 0s 309us/sample - loss: 0.1478 - val_loss: 0.1106\n",
      "Epoch 67/600\n",
      "426/426 [==============================] - 0s 378us/sample - loss: 0.1472 - val_loss: 0.1001\n",
      "Epoch 68/600\n",
      "426/426 [==============================] - 0s 337us/sample - loss: 0.1574 - val_loss: 0.1001\n",
      "Epoch 69/600\n",
      "426/426 [==============================] - 0s 225us/sample - loss: 0.1434 - val_loss: 0.1110\n",
      "Epoch 70/600\n",
      "426/426 [==============================] - 0s 531us/sample - loss: 0.1568 - val_loss: 0.1027\n",
      "Epoch 71/600\n",
      "426/426 [==============================] - 0s 308us/sample - loss: 0.1413 - val_loss: 0.0986\n",
      "Epoch 72/600\n",
      "426/426 [==============================] - 0s 239us/sample - loss: 0.1313 - val_loss: 0.1097\n",
      "Epoch 73/600\n",
      "426/426 [==============================] - 0s 223us/sample - loss: 0.1301 - val_loss: 0.0995\n",
      "Epoch 74/600\n",
      "426/426 [==============================] - 0s 191us/sample - loss: 0.1383 - val_loss: 0.0991\n",
      "Epoch 75/600\n",
      "426/426 [==============================] - 0s 234us/sample - loss: 0.1353 - val_loss: 0.1029\n",
      "Epoch 76/600\n",
      "426/426 [==============================] - 0s 302us/sample - loss: 0.1381 - val_loss: 0.1009\n",
      "Epoch 77/600\n",
      "426/426 [==============================] - 0s 225us/sample - loss: 0.1141 - val_loss: 0.0990\n"
     ]
    },
    {
     "name": "stdout",
     "output_type": "stream",
     "text": [
      "Epoch 78/600\n",
      "426/426 [==============================] - 0s 257us/sample - loss: 0.1368 - val_loss: 0.0934\n",
      "Epoch 79/600\n",
      "426/426 [==============================] - 0s 195us/sample - loss: 0.1293 - val_loss: 0.0979\n",
      "Epoch 80/600\n",
      "426/426 [==============================] - 0s 223us/sample - loss: 0.1207 - val_loss: 0.1033\n",
      "Epoch 81/600\n",
      "426/426 [==============================] - 0s 244us/sample - loss: 0.1032 - val_loss: 0.0979\n",
      "Epoch 82/600\n",
      "426/426 [==============================] - 0s 354us/sample - loss: 0.1283 - val_loss: 0.0944\n",
      "Epoch 83/600\n",
      "426/426 [==============================] - 0s 245us/sample - loss: 0.1308 - val_loss: 0.0929\n",
      "Epoch 84/600\n",
      "426/426 [==============================] - 0s 294us/sample - loss: 0.1243 - val_loss: 0.0973\n",
      "Epoch 85/600\n",
      "426/426 [==============================] - 0s 231us/sample - loss: 0.1361 - val_loss: 0.1072\n",
      "Epoch 86/600\n",
      "426/426 [==============================] - 0s 236us/sample - loss: 0.1079 - val_loss: 0.0956\n",
      "Epoch 87/600\n",
      "426/426 [==============================] - 0s 327us/sample - loss: 0.1093 - val_loss: 0.0910\n",
      "Epoch 88/600\n",
      "426/426 [==============================] - 0s 294us/sample - loss: 0.1222 - val_loss: 0.1000\n",
      "Epoch 89/600\n",
      "426/426 [==============================] - 0s 331us/sample - loss: 0.1000 - val_loss: 0.1162\n",
      "Epoch 90/600\n",
      "426/426 [==============================] - 0s 267us/sample - loss: 0.1177 - val_loss: 0.0896\n",
      "Epoch 91/600\n",
      "426/426 [==============================] - 0s 204us/sample - loss: 0.1241 - val_loss: 0.0921\n",
      "Epoch 92/600\n",
      "426/426 [==============================] - 0s 218us/sample - loss: 0.1408 - val_loss: 0.0993\n",
      "Epoch 93/600\n",
      "426/426 [==============================] - 0s 224us/sample - loss: 0.0924 - val_loss: 0.0925\n",
      "Epoch 94/600\n",
      "426/426 [==============================] - 0s 233us/sample - loss: 0.1148 - val_loss: 0.0937\n",
      "Epoch 95/600\n",
      "426/426 [==============================] - 0s 280us/sample - loss: 0.1109 - val_loss: 0.0972\n",
      "Epoch 96/600\n",
      "426/426 [==============================] - 0s 307us/sample - loss: 0.1152 - val_loss: 0.1009\n",
      "Epoch 97/600\n",
      "426/426 [==============================] - 0s 265us/sample - loss: 0.0992 - val_loss: 0.0984\n",
      "Epoch 98/600\n",
      "426/426 [==============================] - 0s 294us/sample - loss: 0.1076 - val_loss: 0.0891\n",
      "Epoch 99/600\n",
      "426/426 [==============================] - 0s 240us/sample - loss: 0.1175 - val_loss: 0.0926\n",
      "Epoch 100/600\n",
      "426/426 [==============================] - 0s 203us/sample - loss: 0.0963 - val_loss: 0.0951\n",
      "Epoch 101/600\n",
      "426/426 [==============================] - 0s 209us/sample - loss: 0.1244 - val_loss: 0.1021\n",
      "Epoch 102/600\n",
      "426/426 [==============================] - 0s 200us/sample - loss: 0.1369 - val_loss: 0.0957\n",
      "Epoch 103/600\n",
      "426/426 [==============================] - 0s 180us/sample - loss: 0.0990 - val_loss: 0.1026\n",
      "Epoch 104/600\n",
      "426/426 [==============================] - 0s 175us/sample - loss: 0.1053 - val_loss: 0.0991\n",
      "Epoch 105/600\n",
      "426/426 [==============================] - 0s 221us/sample - loss: 0.1044 - val_loss: 0.0974\n",
      "Epoch 106/600\n",
      "426/426 [==============================] - 0s 333us/sample - loss: 0.1023 - val_loss: 0.0885\n",
      "Epoch 107/600\n",
      "426/426 [==============================] - 0s 322us/sample - loss: 0.0944 - val_loss: 0.0970\n",
      "Epoch 108/600\n",
      "426/426 [==============================] - 0s 256us/sample - loss: 0.1069 - val_loss: 0.0878\n",
      "Epoch 109/600\n",
      "426/426 [==============================] - 0s 252us/sample - loss: 0.1108 - val_loss: 0.0853\n",
      "Epoch 110/600\n",
      "426/426 [==============================] - 0s 238us/sample - loss: 0.1109 - val_loss: 0.0968\n",
      "Epoch 111/600\n",
      "426/426 [==============================] - 0s 347us/sample - loss: 0.1008 - val_loss: 0.0934\n",
      "Epoch 112/600\n",
      "426/426 [==============================] - 0s 543us/sample - loss: 0.1215 - val_loss: 0.0910\n",
      "Epoch 113/600\n",
      "426/426 [==============================] - 0s 567us/sample - loss: 0.1097 - val_loss: 0.0917\n",
      "Epoch 114/600\n",
      "426/426 [==============================] - 0s 402us/sample - loss: 0.1106 - val_loss: 0.0911\n",
      "Epoch 115/600\n",
      "426/426 [==============================] - 0s 225us/sample - loss: 0.0929 - val_loss: 0.0933\n",
      "Epoch 116/600\n",
      "426/426 [==============================] - 0s 497us/sample - loss: 0.1191 - val_loss: 0.0913\n",
      "Epoch 117/600\n",
      "426/426 [==============================] - 0s 269us/sample - loss: 0.1010 - val_loss: 0.0901\n",
      "Epoch 118/600\n",
      "426/426 [==============================] - 0s 309us/sample - loss: 0.0920 - val_loss: 0.1009\n",
      "Epoch 119/600\n",
      "426/426 [==============================] - 0s 250us/sample - loss: 0.0945 - val_loss: 0.1046\n",
      "Epoch 120/600\n",
      "426/426 [==============================] - 0s 255us/sample - loss: 0.0943 - val_loss: 0.0924\n",
      "Epoch 121/600\n",
      "426/426 [==============================] - 0s 292us/sample - loss: 0.0802 - val_loss: 0.0994\n",
      "Epoch 122/600\n",
      "426/426 [==============================] - 0s 292us/sample - loss: 0.0944 - val_loss: 0.0976\n",
      "Epoch 123/600\n",
      "426/426 [==============================] - 0s 454us/sample - loss: 0.1069 - val_loss: 0.0935\n",
      "Epoch 124/600\n",
      "426/426 [==============================] - 0s 335us/sample - loss: 0.0850 - val_loss: 0.0969\n",
      "Epoch 125/600\n",
      "426/426 [==============================] - 0s 250us/sample - loss: 0.1035 - val_loss: 0.0934\n",
      "Epoch 126/600\n",
      "426/426 [==============================] - 0s 257us/sample - loss: 0.0905 - val_loss: 0.0917\n",
      "Epoch 127/600\n",
      "426/426 [==============================] - 0s 214us/sample - loss: 0.0859 - val_loss: 0.1032\n",
      "Epoch 128/600\n",
      "426/426 [==============================] - 0s 492us/sample - loss: 0.0979 - val_loss: 0.0973\n",
      "Epoch 129/600\n",
      "426/426 [==============================] - 0s 388us/sample - loss: 0.0844 - val_loss: 0.1003\n",
      "Epoch 130/600\n",
      "426/426 [==============================] - 0s 248us/sample - loss: 0.1062 - val_loss: 0.0932\n",
      "Epoch 131/600\n",
      "426/426 [==============================] - 0s 226us/sample - loss: 0.0943 - val_loss: 0.0966\n",
      "Epoch 132/600\n",
      "426/426 [==============================] - 0s 199us/sample - loss: 0.0820 - val_loss: 0.1025\n",
      "Epoch 133/600\n",
      "426/426 [==============================] - 0s 233us/sample - loss: 0.0955 - val_loss: 0.1039\n",
      "Epoch 134/600\n",
      "426/426 [==============================] - 0s 370us/sample - loss: 0.1201 - val_loss: 0.0908\n",
      "Epoch 00134: early stopping\n"
     ]
    },
    {
     "data": {
      "text/plain": [
       "<tensorflow.python.keras.callbacks.History at 0x137188fd0>"
      ]
     },
     "execution_count": 19,
     "metadata": {},
     "output_type": "execute_result"
    }
   ],
   "source": [
    "model.fit(x=X_train, \n",
    "          y=y_train, \n",
    "          epochs=600,\n",
    "          validation_data=(X_test, y_test), verbose=1,\n",
    "          callbacks=[early_stop,board]\n",
    "          )"
   ]
  },
  {
   "cell_type": "markdown",
   "metadata": {},
   "source": [
    "# Running Tensorboard\n"
   ]
  },
  {
   "cell_type": "markdown",
   "metadata": {},
   "source": [
    "## Running through the Command Line\n",
    "\n",
    "**Watch video to see how to run Tensorboard through a command line call.**"
   ]
  },
  {
   "cell_type": "markdown",
   "metadata": {},
   "source": [
    "Tensorboard will run locally in your browser at [http://localhost:6006/](http://localhost:6006/)\n"
   ]
  },
  {
   "cell_type": "code",
   "execution_count": 20,
   "metadata": {},
   "outputs": [
    {
     "name": "stdout",
     "output_type": "stream",
     "text": [
      "logs/fit\n"
     ]
    }
   ],
   "source": [
    "print(log_directory)"
   ]
  },
  {
   "cell_type": "code",
   "execution_count": 21,
   "metadata": {},
   "outputs": [
    {
     "data": {
      "text/plain": [
       "'/Users/namanmanchanda/Desktop/Keras_models'"
      ]
     },
     "execution_count": 21,
     "metadata": {},
     "output_type": "execute_result"
    }
   ],
   "source": [
    "pwd"
   ]
  },
  {
   "cell_type": "markdown",
   "metadata": {},
   "source": [
    "### Use cd at your command line to change directory to the file path reported back by pwd or your current .py file location.\n",
    "### Then run this code at your command line or terminal"
   ]
  },
  {
   "cell_type": "code",
   "execution_count": null,
   "metadata": {},
   "outputs": [],
   "source": [
    "tensorboard --logdir logs\\fit "
   ]
  }
 ],
 "metadata": {
  "kernelspec": {
   "display_name": "Python 3",
   "language": "python",
   "name": "python3"
  },
  "language_info": {
   "codemirror_mode": {
    "name": "ipython",
    "version": 3
   },
   "file_extension": ".py",
   "mimetype": "text/x-python",
   "name": "python",
   "nbconvert_exporter": "python",
   "pygments_lexer": "ipython3",
   "version": "3.7.6"
  }
 },
 "nbformat": 4,
 "nbformat_minor": 2
}
